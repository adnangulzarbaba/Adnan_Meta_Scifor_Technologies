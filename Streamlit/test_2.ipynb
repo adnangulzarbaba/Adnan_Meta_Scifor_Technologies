{
 "cells": [
  {
   "cell_type": "markdown",
   "id": "34d02068-fb97-42d9-8ca5-460057f5c8c5",
   "metadata": {},
   "source": [
    "### 1. What are decorators in Python?"
   ]
  },
  {
   "cell_type": "markdown",
   "id": "fe7d42e8-07be-40d4-8ac0-da5bbb664cf9",
   "metadata": {},
   "source": [
    "*Decorators are functions that modify the functionality of another function. They allow you to wrap another function to extend its behavior without permanently modifying it.*"
   ]
  },
  {
   "cell_type": "code",
   "execution_count": 3,
   "id": "5834f9b0-10b3-465a-95c7-f715aeb7eaa5",
   "metadata": {},
   "outputs": [
    {
     "name": "stdout",
     "output_type": "stream",
     "text": [
      "Something is happening before the function is called.\n",
      "Hello!\n",
      "Something is happening after the function is called.\n"
     ]
    }
   ],
   "source": [
    "# Example\n",
    "def my_decorator(func):\n",
    "    def wrapper():\n",
    "        print(\"Something is happening before the function is called.\")\n",
    "        func()\n",
    "        print(\"Something is happening after the function is called.\")\n",
    "    return wrapper\n",
    "\n",
    "@my_decorator\n",
    "def say_hello():\n",
    "    print(\"Hello!\")\n",
    "\n",
    "say_hello()"
   ]
  },
  {
   "cell_type": "markdown",
   "id": "42980308-3962-4c4e-9f0c-74a602ce63d8",
   "metadata": {},
   "source": [
    "### 2. Method Overriding and Method Overloading"
   ]
  },
  {
   "cell_type": "markdown",
   "id": "0ca4aca1-070c-49ca-b877-46c093983d43",
   "metadata": {},
   "source": [
    "*Method Overriding occurs when a subclass provides a specific implementation of a method that is already defined in its superclass.*\n",
    "\n",
    "*Method Overloading allows multiple methods in the same class to have the same name but different parameters.*"
   ]
  },
  {
   "cell_type": "code",
   "execution_count": 5,
   "id": "d90a1617-400f-4593-80a0-61a7446fc6fd",
   "metadata": {},
   "outputs": [
    {
     "name": "stdout",
     "output_type": "stream",
     "text": [
      "Child method overriding\n",
      "Displaying one value: 10\n",
      "Displaying two values: 10 and 20\n"
     ]
    }
   ],
   "source": [
    "# Example\n",
    "class Parent:\n",
    "    def show(self):\n",
    "        print(\"Parent method\")\n",
    "\n",
    "class Child(Parent):\n",
    "    def show(self):\n",
    "        print(\"Child method overriding\")\n",
    "\n",
    "# Overloading simulation\n",
    "class OverloadDemo:\n",
    "    def display(self, a=None, b=None):\n",
    "        if a is not None and b is not None:\n",
    "            print(f\"Displaying two values: {a} and {b}\")\n",
    "        elif a is not None:\n",
    "            print(f\"Displaying one value: {a}\")\n",
    "        else:\n",
    "            print(\"No values to display\")\n",
    "\n",
    "child = Child()\n",
    "child.show()\n",
    "\n",
    "overload_demo = OverloadDemo()\n",
    "overload_demo.display(10)\n",
    "overload_demo.display(10, 20)"
   ]
  },
  {
   "cell_type": "markdown",
   "id": "c69caa2d-eab9-48a0-8f95-88ed2133cf91",
   "metadata": {},
   "source": [
    "### 3. Code for Hybrid Inheritance"
   ]
  },
  {
   "cell_type": "code",
   "execution_count": 6,
   "id": "1fbb20ab-c601-4135-a9a3-f2d9d40ca065",
   "metadata": {},
   "outputs": [
    {
     "name": "stdout",
     "output_type": "stream",
     "text": [
      "Method from class A\n",
      "Method from class B\n",
      "Method from class C\n",
      "Method from class D\n"
     ]
    }
   ],
   "source": [
    "# Example\n",
    "class A:\n",
    "    def method_a(self):\n",
    "        print(\"Method from class A\")\n",
    "\n",
    "class B(A):\n",
    "    def method_b(self):\n",
    "        print(\"Method from class B\")\n",
    "\n",
    "class C(A):\n",
    "    def method_c(self):\n",
    "        print(\"Method from class C\")\n",
    "\n",
    "class D(B, C):\n",
    "    def method_d(self):\n",
    "        print(\"Method from class D\")\n",
    "\n",
    "d = D()\n",
    "d.method_a()\n",
    "d.method_b()\n",
    "d.method_c()\n",
    "d.method_d()"
   ]
  },
  {
   "cell_type": "markdown",
   "id": "7217f1f4-bd08-4f6f-950f-283275200cb5",
   "metadata": {},
   "source": [
    "### Explain : Time Complexity and Space Complexity of Stacks, Queues, Linked List"
   ]
  },
  {
   "cell_type": "markdown",
   "id": "d52b9aca-7903-4d19-a686-0cec49acd7ce",
   "metadata": {},
   "source": [
    "**Stacks:**\n",
    "\n",
    "*Time Complexity:*\n",
    "*Push: O(1)*\n",
    "*Pop: O(1)*\n",
    "*Space Complexity: O(n) where n is the number of elements.*\n",
    "\n",
    "**Queues:**\n",
    "\n",
    "*Time Complexity:*\n",
    "*Enqueue: O(1)*\n",
    "*Dequeue: O(1)*\n",
    "*Space Complexity: O(n) where n is the number of elements.*\n",
    "\n",
    "**Linked List:**\n",
    "\n",
    "*Time Complexity:*\n",
    "*Insertion: O(1) (if at head)*\n",
    "*Deletion: O(1) (if at head)*\n",
    "*Search: O(n)*\n",
    "*Space Complexity: O(n) where n is the number of nodes.*"
   ]
  },
  {
   "cell_type": "markdown",
   "id": "7ecf91be-6fa1-4729-bd90-e38d93a10dce",
   "metadata": {},
   "source": [
    "### 5. Explain any 3 widgets in Streamlit"
   ]
  },
  {
   "cell_type": "markdown",
   "id": "2bb6c144-5a4b-46ea-9041-ce187977f9a6",
   "metadata": {},
   "source": [
    "**Text Input**\n",
    "\n",
    "*name = st.text_input(\"Enter your name:\") : For user input as text.*\n",
    "\n",
    "**Slider**\n",
    "\n",
    "*age = st.slider(\"Select your age:\", 0, 100, 25) : For selecting numeric values within a range.*\n",
    "\n",
    "**Button**\n",
    "\n",
    "*if st.button(\"Submit\"):\n",
    "    st.write(\"Button clicked!\") : For triggering actions when clicked.*"
   ]
  },
  {
   "cell_type": "markdown",
   "id": "4c2070ff-7685-476c-9e04-65ebb7c4f80b",
   "metadata": {},
   "source": [
    "### 6. Explain session in Streamlit"
   ]
  },
  {
   "cell_type": "markdown",
   "id": "4596997e-cfc2-4eee-ae9b-504b742a0199",
   "metadata": {},
   "source": [
    "*Sessions in Streamlit allow you to maintain state across different user interactions.* "
   ]
  },
  {
   "cell_type": "code",
   "execution_count": null,
   "id": "eeea58c5-5c24-4cb8-a16b-3b6110fc0cb4",
   "metadata": {},
   "outputs": [],
   "source": [
    "# Example\n",
    "if 'count' not in st.session_state:\n",
    "    st.session_state.count = 0\n",
    "\n",
    "if st.button(\"Increment\"):\n",
    "    st.session_state.count += 1\n",
    "\n",
    "st.write(f\"Count: {st.session_state.count}\")"
   ]
  },
  {
   "cell_type": "markdown",
   "id": "f58be228-90b7-40b2-990a-ee6116c507d5",
   "metadata": {},
   "source": [
    "### 7. How to run any file in Streamlit"
   ]
  },
  {
   "cell_type": "code",
   "execution_count": null,
   "id": "f96b2e0c-07ab-4a96-80cf-1aad545f0a3b",
   "metadata": {},
   "outputs": [],
   "source": [
    "streamlit run your_file.py"
   ]
  },
  {
   "cell_type": "markdown",
   "id": "a3de24f2-61ee-47f7-a681-0f3b233d472a",
   "metadata": {},
   "source": [
    "### 8. Plot Graphs such as Bar Chart and Pie Chart"
   ]
  },
  {
   "cell_type": "code",
   "execution_count": null,
   "id": "c640953f-9583-4ac5-9c1b-99e694d0264e",
   "metadata": {},
   "outputs": [],
   "source": [
    "import streamlit as st\n",
    "import matplotlib.pyplot as plt"
   ]
  },
  {
   "cell_type": "code",
   "execution_count": null,
   "id": "50af2b04-700b-44c8-9cc4-ca809103eccb",
   "metadata": {},
   "outputs": [],
   "source": [
    "# Bar Chart Example\n",
    "data = [10, 20, 15, 25]\n",
    "labels = ['A', 'B', 'C', 'D']\n",
    "plt.bar(labels, data)\n",
    "st.pyplot(plt)"
   ]
  },
  {
   "cell_type": "code",
   "execution_count": null,
   "id": "b93cddd2-1207-415f-a5e4-01a50d9d72df",
   "metadata": {},
   "outputs": [],
   "source": [
    "# Pie Chart Example\n",
    "plt.figure(figsize=(6, 6))\n",
    "plt.pie(data, labels=labels, autopct='%1.1f%%')\n",
    "st.pyplot(plt)"
   ]
  }
 ],
 "metadata": {
  "kernelspec": {
   "display_name": "Python 3 (ipykernel)",
   "language": "python",
   "name": "python3"
  },
  "language_info": {
   "codemirror_mode": {
    "name": "ipython",
    "version": 3
   },
   "file_extension": ".py",
   "mimetype": "text/x-python",
   "name": "python",
   "nbconvert_exporter": "python",
   "pygments_lexer": "ipython3",
   "version": "3.12.4"
  }
 },
 "nbformat": 4,
 "nbformat_minor": 5
}

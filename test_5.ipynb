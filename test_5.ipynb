{
 "cells": [
  {
   "cell_type": "markdown",
   "id": "42a9971a-ed36-4df5-8983-a026c3f49a38",
   "metadata": {},
   "source": [
    "#  NLP + Statistics "
   ]
  },
  {
   "cell_type": "code",
   "execution_count": null,
   "id": "288eba9e-aede-44bb-9e21-f7731d96737c",
   "metadata": {},
   "outputs": [],
   "source": [
    "import re\n",
    "import nltk\n",
    "from nltk.tokenize import word_tokenize\n",
    "from nltk.corpus import stopwords\n",
    "from nltk import FreqDist\n",
    "import spacy"
   ]
  },
  {
   "cell_type": "markdown",
   "id": "973f0ab0-a759-4ab4-85ae-2f4e2556dbde",
   "metadata": {},
   "source": [
    "## NLP"
   ]
  },
  {
   "cell_type": "markdown",
   "id": "a921598a-7991-419b-911b-26caf73b1004",
   "metadata": {},
   "source": [
    "### 1. Write a program of text processing"
   ]
  },
  {
   "cell_type": "code",
   "execution_count": 2,
   "id": "6517a9a5-e739-4e5a-b87b-ee8d93c78012",
   "metadata": {},
   "outputs": [
    {
     "name": "stdout",
     "output_type": "stream",
     "text": [
      "Original Text:\n",
      "\n",
      "Electronics and Communication Engineering (ECE) is a dynamic and rapidly evolving branch of engineering that combines principles from both\n",
      "electronics and communication technologies. This field plays a pivotal role in the development of modern technologies and contributes significantly\n",
      "to various sectors, including telecommunications, aerospace, healthcare, and automation.\n",
      "\n",
      "\n",
      "Processed Text:\n",
      "\n",
      "electronics and communication engineering ece is a dynamic and rapidly evolving branch of engineering that combines principles from both\n",
      "electronics and communication technologies this field plays a pivotal role in the development of modern technologies and contributes significantly\n",
      "to various sectors including telecommunications aerospace healthcare and automation\n",
      "\n",
      "\n",
      "Filtered Tokens (without stopwords):\n",
      "['electronics', 'communication', 'engineering', 'ece', 'dynamic', 'rapidly', 'evolving', 'branch', 'engineering', 'combines', 'principles', 'electronics', 'communication', 'technologies', 'field', 'plays', 'pivotal', 'role', 'development', 'modern', 'technologies', 'contributes', 'significantly', 'various', 'sectors', 'including', 'telecommunications', 'aerospace', 'healthcare', 'automation']\n",
      "\n",
      "Frequency Distribution of Tokens:\n",
      "<FreqDist with 26 samples and 30 outcomes>\n"
     ]
    },
    {
     "name": "stderr",
     "output_type": "stream",
     "text": [
      "[nltk_data] Downloading package punkt to\n",
      "[nltk_data]     C:\\Users\\addyf\\AppData\\Roaming\\nltk_data...\n",
      "[nltk_data]   Package punkt is already up-to-date!\n",
      "[nltk_data] Downloading package stopwords to\n",
      "[nltk_data]     C:\\Users\\addyf\\AppData\\Roaming\\nltk_data...\n",
      "[nltk_data]   Package stopwords is already up-to-date!\n"
     ]
    }
   ],
   "source": [
    "# Download required NLTK datasets (only the first time)\n",
    "nltk.download('punkt')\n",
    "nltk.download('stopwords')\n",
    "\n",
    "# Sample text for processing\n",
    "text = \"\"\"\n",
    "Electronics and Communication Engineering (ECE) is a dynamic and rapidly evolving branch of engineering that combines principles from both\n",
    "electronics and communication technologies. This field plays a pivotal role in the development of modern technologies and contributes significantly\n",
    "to various sectors, including telecommunications, aerospace, healthcare, and automation.\n",
    "\"\"\"\n",
    "\n",
    "# Step 1: Convert text to lowercase\n",
    "text_lower = text.lower()\n",
    "\n",
    "# Step 2: Remove punctuation using regex\n",
    "text_cleaned = re.sub(r'[^\\w\\s]', '', text_lower)\n",
    "\n",
    "# Step 3: Tokenize the text into words\n",
    "tokens = word_tokenize(text_cleaned)\n",
    "\n",
    "# Step 4: Remove stop words (common words like \"the\", \"and\", etc.)\n",
    "stop_words = set(stopwords.words('english'))\n",
    "filtered_tokens = [word for word in tokens if word not in stop_words]\n",
    "\n",
    "# Step 5: Frequency Distribution\n",
    "freq_dist = FreqDist(filtered_tokens)\n",
    "\n",
    "# Output processed results\n",
    "print(\"Original Text:\")\n",
    "print(text)\n",
    "print(\"\\nProcessed Text:\")\n",
    "print(text_cleaned)\n",
    "print(\"\\nFiltered Tokens (without stopwords):\")\n",
    "print(filtered_tokens)\n",
    "print(\"\\nFrequency Distribution of Tokens:\")\n",
    "print(freq_dist)"
   ]
  },
  {
   "cell_type": "markdown",
   "id": "c1a1cf3b-530f-4985-b832-8eab5287d427",
   "metadata": {},
   "source": [
    "### 2. Write a program to implement NLP based upon spacy "
   ]
  },
  {
   "cell_type": "code",
   "execution_count": null,
   "id": "b43242a9-ef8f-471c-9b5e-582c3cd87adb",
   "metadata": {},
   "outputs": [],
   "source": [
    "# Load the SpaCy model\n",
    "nlp = spacy.load(\"en_core_web_sm\")\n",
    "\n",
    "# Sample text for processing\n",
    "text = \"\"\"\n",
    "Electronics and Communication Engineering (ECE) is a dynamic and rapidly evolving branch of engineering that combines principles from both\n",
    "electronics and communication technologies. This field plays a pivotal role in the development of modern technologies and contributes significantly\n",
    "to various sectors, including telecommunications, aerospace, healthcare, and automation.\n",
    "\"\"\"\n",
    "\n",
    "# Process the text using SpaCy\n",
    "doc = nlp(text)\n",
    "\n",
    "# Step 1: Tokenization (spaCy automatically tokenizes the text)\n",
    "print(\"Tokens:\")\n",
    "for token in doc:\n",
    "    print(token.text)\n",
    "\n",
    "# Step 2: Part-of-Speech Tagging (POS)\n",
    "print(\"\\nPart-of-Speech Tagging:\")\n",
    "for token in doc:\n",
    "    print(f\"{token.text}: {token.pos_}\")\n",
    "\n",
    "# Step 3: Named Entity Recognition (NER)\n",
    "print(\"\\nNamed Entities:\")\n",
    "for ent in doc.ents:\n",
    "    print(f\"{ent.text} ({ent.label_})\")\n",
    "\n",
    "# Step 4: Dependency Parsing\n",
    "print(\"\\nDependency Parsing:\")\n",
    "for token in doc:\n",
    "    print(f\"{token.text} <-{token.dep_}- {token.head.text}\")\n",
    "\n",
    "# Step 5: Lemmatization\n",
    "print(\"\\nLemmatization:\")\n",
    "for token in doc:\n",
    "    print(f\"{token.text} -> {token.lemma_}\")"
   ]
  },
  {
   "cell_type": "markdown",
   "id": "dfd676d2-b955-4201-a0b8-dd9a23c0f57d",
   "metadata": {},
   "source": [
    "## Statistics"
   ]
  },
  {
   "cell_type": "markdown",
   "id": "696086d1-ea34-460b-8ea5-60599193241c",
   "metadata": {},
   "source": [
    "### 1. Difference between descriptive and inferential statistics. Write down atleast 10-15 differences"
   ]
  },
  {
   "cell_type": "markdown",
   "id": "f5a7505d-720b-402a-b882-71f9ce3b76b7",
   "metadata": {},
   "source": [
    "| **Descriptive Statistics**                           | **Inferential Statistics**                             |\n",
    "|------------------------------------------------------|--------------------------------------------------------|\n",
    "| Aims to describe or summarize a data set.            | Aims to make predictions or inferences about a population based on a sample. |\n",
    "| Deals with data that is collected or observed.       | Uses sample data to infer properties of a larger population. |\n",
    "| Examples: mean, median, mode, variance, standard deviation. | Examples: hypothesis testing, confidence intervals, regression analysis. |\n",
    "| No generalization is made beyond the data.           | Inferences are made to generalize results beyond the sample. |\n",
    "| Data is presented in the form of tables, graphs, and charts. | Inferences are drawn using statistical models and tests. |\n",
    "| Focuses on summarizing the characteristics of the sample. | Focuses on making conclusions that extend to a broader population. |\n",
    "| Provides exact information about the sample.         | Provides probabilistic information about a population. |\n",
    "| No conclusions are made about causality.             | Can be used to test hypotheses and determine causal relationships. |\n",
    "| Examples of measures: central tendency, dispersion.  | Examples of tests: t-tests, chi-square tests, ANOVA. |\n",
    "| More concerned with the \"what\" (describing the data).| More concerned with the \"why\" or \"how\" (testing theories or hypotheses). |\n",
    "| Analysis can be simple and does not require assumptions about data distribution. | Often requires assumptions (normal distribution, randomness, etc.) to be valid. |\n",
    "| Useful for understanding the structure of the data.  | Useful for drawing conclusions from data and making decisions. |\n",
    "| Primarily concerned with describing data features.   | Primarily concerned with making predictions or inferences. |\n",
    "| Examples: calculating average sales, total revenue, etc. | Example: estimating the population mean based on a sample, testing the effectiveness of a drug. |\n",
    "| Often used in exploratory data analysis (EDA).        | Often used in confirmatory data analysis (CDA). |\n"
   ]
  }
 ],
 "metadata": {
  "kernelspec": {
   "display_name": "Python 3 (ipykernel)",
   "language": "python",
   "name": "python3"
  },
  "language_info": {
   "codemirror_mode": {
    "name": "ipython",
    "version": 3
   },
   "file_extension": ".py",
   "mimetype": "text/x-python",
   "name": "python",
   "nbconvert_exporter": "python",
   "pygments_lexer": "ipython3",
   "version": "3.12.4"
  }
 },
 "nbformat": 4,
 "nbformat_minor": 5
}

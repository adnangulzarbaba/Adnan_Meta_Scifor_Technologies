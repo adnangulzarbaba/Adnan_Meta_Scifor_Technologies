{
 "cells": [
  {
   "cell_type": "markdown",
   "id": "c2100cee-e68e-4ccf-b063-5bc3aa2385ec",
   "metadata": {},
   "source": [
    "### Python Questions"
   ]
  },
  {
   "cell_type": "markdown",
   "id": "966d90f3-4edd-4cb6-9d45-49640262d678",
   "metadata": {},
   "source": [
    "1. Difference between Lists and Tuples:"
   ]
  },
  {
   "cell_type": "markdown",
   "id": "e9c727cb-93bb-4641-b982-2e5c798625a3",
   "metadata": {},
   "source": [
    "Lists: These are like containers that you can change. You can add, remove, or modify items.\n",
    "Tuples: These are also containers, but you cannot change them once they're created. \n",
    "When to use: Choose lists if you need to change the data later. Choose tuples if you want to protect the data from changes."
   ]
  },
  {
   "cell_type": "markdown",
   "id": "230ea76e-84f1-47f2-b5d3-9be386b95306",
   "metadata": {},
   "source": [
    "2. Function to Filter Even Numbers:"
   ]
  },
  {
   "cell_type": "code",
   "execution_count": 2,
   "id": "d69a7f61-41ae-45b4-8900-60132ab3ed74",
   "metadata": {},
   "outputs": [],
   "source": [
    "def filter_even_numbers(int_list):\n",
    "    return [num for num in int_list if num % 2 == 0]"
   ]
  },
  {
   "cell_type": "markdown",
   "id": "cb76b98f-5563-4790-80df-cda0bdca8d92",
   "metadata": {},
   "source": [
    "3. Python's Garbage Collection:"
   ]
  },
  {
   "cell_type": "markdown",
   "id": "b8629413-0d0f-42ae-a431-6e74d5171f18",
   "metadata": {},
   "source": [
    "Python automatically manages memory using two main methods:\n",
    "Reference Counting: It keeps track of how many times an object is used. When it's no longer needed, it frees up memory.\n",
    "Cyclic Garbage Collector: This collects objects that refer to each other but are no longer in use, cleaning up memory that reference counting might miss."
   ]
  },
  {
   "cell_type": "markdown",
   "id": "ceb5b215-7580-4d37-b468-01487669cd3d",
   "metadata": {},
   "source": [
    "4. Function to Calculate Average Scores:"
   ]
  },
  {
   "cell_type": "code",
   "execution_count": 3,
   "id": "09cded54-4b07-4247-a0fb-0925c9b68861",
   "metadata": {},
   "outputs": [],
   "source": [
    "def average_scores(students_scores):\n",
    "    averages = {}\n",
    "    for student, scores in students_scores.items():\n",
    "        averages[student] = sum(scores) / len(scores) if scores else 0\n",
    "    return averages"
   ]
  },
  {
   "cell_type": "markdown",
   "id": "3f79d1de-7c36-46f5-9833-4dc1cd073ab0",
   "metadata": {},
   "source": [
    "5. What are *args and **kwargs?"
   ]
  },
  {
   "cell_type": "markdown",
   "id": "b5c2b023-b7ec-450c-abb9-a4664c8dcddb",
   "metadata": {},
   "source": [
    "*args lets you pass a variable number of non-keyword arguments to a function.\n",
    "**kwargs lets you pass a variable number of keyword arguments (as a dictionary)."
   ]
  },
  {
   "cell_type": "code",
   "execution_count": 4,
   "id": "4b096b90-9408-4f18-ae27-6ef25423db75",
   "metadata": {},
   "outputs": [],
   "source": [
    "def example_function(*args, **kwargs):\n",
    "    print(args)\n",
    "    print(kwargs)"
   ]
  },
  {
   "cell_type": "markdown",
   "id": "a564790e-adcb-4e0e-8bf0-cfabd8ee61fa",
   "metadata": {},
   "source": [
    "### Streamlit Questions"
   ]
  },
  {
   "cell_type": "markdown",
   "id": "861cb348-f57b-419a-acf0-7184bd130f49",
   "metadata": {},
   "source": [
    "1. How st.cache Works and When to avoid:\n",
    "\n",
    "st.cache stores the results of expensive functions so they don’t run again unless the input changes. \n",
    "When to avoid: Don’t use it for functions that have side effects or depend on external data that may change."
   ]
  },
  {
   "cell_type": "markdown",
   "id": "f9bca8da-dad4-42f3-bf22-191ced813e11",
   "metadata": {},
   "source": [
    "2. Simple Streamlit App for Greeting:"
   ]
  },
  {
   "cell_type": "code",
   "execution_count": null,
   "id": "94cf85f5-95c8-4a46-b56d-d4ad5d023a74",
   "metadata": {},
   "outputs": [],
   "source": [
    "import streamlit as st\n",
    "\n",
    "st.title(\"Greeting App\")\n",
    "name = st.text_input(\"Enter your name:\")\n",
    "if name:\n",
    "    st.write(f\"Hello, {name}!\")"
   ]
  },
  {
   "cell_type": "markdown",
   "id": "9bf8e60c-da1a-4147-b743-107a5622dbfb",
   "metadata": {},
   "source": [
    "3. What is st.sidebar:\n",
    "\n",
    "st.sidebar creates a side menu for controls and options. This helps keep the main part of the app clean and easy to use."
   ]
  },
  {
   "cell_type": "markdown",
   "id": "90421fb9-62cb-4b10-999f-f4209f1cf603",
   "metadata": {},
   "source": [
    "4. Streamlit App for a Line Chart:"
   ]
  },
  {
   "cell_type": "code",
   "execution_count": null,
   "id": "9ba66f18-1788-4b3e-9227-bc973ee44995",
   "metadata": {},
   "outputs": [],
   "source": [
    "import streamlit as st\n",
    "import numpy as np\n",
    "\n",
    "st.title(\"Random Data Line Chart\")\n",
    "num_points = st.slider(\"Select number of data points\", 1, 100)\n",
    "data = np.random.randn(num_points)\n",
    "st.line_chart(data)"
   ]
  },
  {
   "cell_type": "markdown",
   "id": "fdc226d2-c94d-4373-9a39-f2a4d4bfabe4",
   "metadata": {},
   "source": [
    "5. Real-time Updates with st.button or st.checkbox:"
   ]
  },
  {
   "cell_type": "markdown",
   "id": "b97e95b4-772c-46f3-ad12-bc26841ada8a",
   "metadata": {},
   "source": [
    "Streamlit can update the app in real-time when you click a button or check a box.\n",
    "Example Use Case: You could have a button that refreshes stock prices, showing the latest information without reloading the whole page."
   ]
  }
 ],
 "metadata": {
  "kernelspec": {
   "display_name": "Python 3 (ipykernel)",
   "language": "python",
   "name": "python3"
  },
  "language_info": {
   "codemirror_mode": {
    "name": "ipython",
    "version": 3
   },
   "file_extension": ".py",
   "mimetype": "text/x-python",
   "name": "python",
   "nbconvert_exporter": "python",
   "pygments_lexer": "ipython3",
   "version": "3.12.4"
  }
 },
 "nbformat": 4,
 "nbformat_minor": 5
}

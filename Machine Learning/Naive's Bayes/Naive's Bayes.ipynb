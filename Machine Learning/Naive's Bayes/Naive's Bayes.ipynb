{
 "cells": [
  {
   "cell_type": "markdown",
   "id": "7fce7fda-3132-46af-93b6-5d3237f5768b",
   "metadata": {},
   "source": [
    "#  IMDb Movie Reviews Dataset using the Naive Bayes classifier."
   ]
  },
  {
   "cell_type": "code",
   "execution_count": 1,
   "id": "cee1b7c7-3bf4-4642-8c6e-3bec4b6fbe5c",
   "metadata": {},
   "outputs": [
    {
     "name": "stderr",
     "output_type": "stream",
     "text": [
      "[nltk_data] Downloading package stopwords to\n",
      "[nltk_data]     C:\\Users\\addyf\\AppData\\Roaming\\nltk_data...\n",
      "[nltk_data]   Package stopwords is already up-to-date!\n"
     ]
    },
    {
     "data": {
      "text/plain": [
       "True"
      ]
     },
     "execution_count": 1,
     "metadata": {},
     "output_type": "execute_result"
    }
   ],
   "source": [
    "import pandas as pd\n",
    "import numpy as np\n",
    "from sklearn.model_selection import train_test_split\n",
    "from sklearn.feature_extraction.text import TfidfVectorizer\n",
    "from sklearn.naive_bayes import MultinomialNB\n",
    "from sklearn.metrics import classification_report, accuracy_score, confusion_matrix\n",
    "import nltk\n",
    "from nltk.corpus import stopwords\n",
    "from nltk.stem import PorterStemmer\n",
    "import re\n",
    "import matplotlib.pyplot as plt\n",
    "import seaborn as sns\n",
    "\n",
   ]
  },
  {
   "cell_type": "code",
   "execution_count": 2,
   "id": "359f171d-720c-47d6-a278-d0155f7f11f6",
   "metadata": {},
   "outputs": [
    {
     "name": "stdout",
     "output_type": "stream",
     "text": [
      "                                              review sentiment\n",
      "0  One of the other reviewers has mentioned that ...  positive\n",
      "1  A wonderful little production. <br /><br />The...  positive\n",
      "2  I thought this was a wonderful way to spend ti...  positive\n",
      "3  Basically there's a family where a little boy ...  negative\n",
      "4  Petter Mattei's \"Love in the Time of Money\" is...  positive\n"
     ]
    }
   ],
   "source": [
    "# Load the IMDb dataset (replace with your file path)\n",
    "df = pd.read_csv('IMDB Dataset.csv')\n",
    "\n",
    "# Check the structure of the data\n",
    "print(df.head())"
   ]
  },
  {
   "cell_type": "code",
   "execution_count": 3,
   "id": "c74ee271-7524-4a1c-afde-abe64e33322b",
   "metadata": {},
   "outputs": [
    {
     "name": "stdout",
     "output_type": "stream",
     "text": [
      "                                              review sentiment  \\\n",
      "0  One of the other reviewers has mentioned that ...  positive   \n",
      "1  A wonderful little production. <br /><br />The...  positive   \n",
      "2  I thought this was a wonderful way to spend ti...  positive   \n",
      "3  Basically there's a family where a little boy ...  negative   \n",
      "4  Petter Mattei's \"Love in the Time of Money\" is...  positive   \n",
      "\n",
      "                                    processed_review  \n",
      "0  one review mention watch oz episod youll hook ...  \n",
      "1  wonder littl product br br film techniqu unass...  \n",
      "2  thought wonder way spend time hot summer weeke...  \n",
      "3  basic there famili littl boy jake think there ...  \n",
      "4  petter mattei love time money visual stun film...  \n"
     ]
    }
   ],
   "source": [
    "# Initialize the NLTK components\n",
    "stop_words = set(stopwords.words('english'))\n",
    "stemmer = PorterStemmer()\n",
    "\n",
    "# Preprocessing function\n",
    "def preprocess_text(text):\n",
    "    text = text.lower()  # Convert text to lowercase\n",
    "    text = re.sub(r'[^a-zA-Z\\s]', '', text)  # Remove non-alphabetic characters\n",
    "    words = text.split()  # Tokenize the text into words\n",
    "    words = [stemmer.stem(word) for word in words if word not in stop_words]  # Remove stopwords and stem\n",
    "    return ' '.join(words)\n",
    "\n",
    "# Apply preprocessing to the reviews\n",
    "df['processed_review'] = df['review'].apply(preprocess_text)\n",
    "\n",
    "# Check the preprocessed text\n",
    "print(df.head())"
   ]
  },
  {
   "cell_type": "code",
   "execution_count": 4,
   "id": "1e34e140-4f83-4d58-a255-12167508a389",
   "metadata": {},
   "outputs": [
    {
     "name": "stdout",
     "output_type": "stream",
     "text": [
      "(50000, 5000)\n"
     ]
    }
   ],
   "source": [
    "# Initialize the TF-IDF Vectorizer\n",
    "vectorizer = TfidfVectorizer(max_features=5000)\n",
    "\n",
    "# Transform the reviews into TF-IDF features\n",
    "X = vectorizer.fit_transform(df['processed_review']).toarray()\n",
    "\n",
    "# The sentiment labels (0 = negative, 1 = positive)\n",
    "y = df['sentiment'].values\n",
    "\n",
    "# Check the shape of the feature matrix\n",
    "print(X.shape)"
   ]
  },
  {
   "cell_type": "code",
   "execution_count": 5,
   "id": "5af05804-52bc-4806-8343-f681a59862a3",
   "metadata": {},
   "outputs": [
    {
     "name": "stdout",
     "output_type": "stream",
     "text": [
      "(40000, 5000) (10000, 5000)\n"
     ]
    }
   ],
   "source": [
    "# Split the data into training and testing sets\n",
    "X_train, X_test, y_train, y_test = train_test_split(X, y, test_size=0.2, random_state=42)\n",
    "\n",
    "# Check the shape of the splits\n",
    "print(X_train.shape, X_test.shape)"
   ]
  },
  {
   "cell_type": "code",
   "execution_count": 6,
   "id": "90e04215-8fa5-4001-8424-be7cc1daa9d6",
   "metadata": {},
   "outputs": [],
   "source": [
    "# Initialize the Naive Bayes model\n",
    "model = MultinomialNB()\n",
    "\n",
    "# Train the model on the training data\n",
    "model.fit(X_train, y_train)\n",
    "\n",
    "# Make predictions on the test set\n",
    "y_pred = model.predict(X_test)"
   ]
  },
  {
   "cell_type": "code",
   "execution_count": 7,
   "id": "e523ed7b-2b7b-4b1b-a0d4-d1c93ffa8dbc",
   "metadata": {},
   "outputs": [
    {
     "name": "stdout",
     "output_type": "stream",
     "text": [
      "Accuracy: 0.8462\n"
     ]
    },
    {
     "data": {
      "image/png": "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",
      "text/plain": [
       "<Figure size 600x600 with 2 Axes>"
      ]
     },
     "metadata": {},
     "output_type": "display_data"
    },
    {
     "name": "stdout",
     "output_type": "stream",
     "text": [
      "Classification Report:\n",
      "              precision    recall  f1-score   support\n",
      "\n",
      "    negative       0.85      0.84      0.84      4961\n",
      "    positive       0.84      0.85      0.85      5039\n",
      "\n",
      "    accuracy                           0.85     10000\n",
      "   macro avg       0.85      0.85      0.85     10000\n",
      "weighted avg       0.85      0.85      0.85     10000\n",
      "\n"
     ]
    }
   ],
   "source": [
    "# Calculate accuracy\n",
    "accuracy = accuracy_score(y_test, y_pred)\n",
    "print(f'Accuracy: {accuracy:.4f}')\n",
    "\n",
    "# Confusion Matrix\n",
    "cm = confusion_matrix(y_test, y_pred)\n",
    "plt.figure(figsize=(6, 6))\n",
    "sns.heatmap(cm, annot=True, fmt='d', cmap='Blues', xticklabels=['Negative', 'Positive'], yticklabels=['Negative', 'Positive'])\n",
    "plt.ylabel('Actual')\n",
    "plt.xlabel('Predicted')\n",
    "plt.title('Confusion Matrix')\n",
    "plt.show()\n",
    "\n",
    "# Classification Report\n",
    "print(\"Classification Report:\")\n",
    "print(classification_report(y_test, y_pred))"
   ]
  }
 ],
 "metadata": {
  "kernelspec": {
   "display_name": "Python 3 (ipykernel)",
   "language": "python",
   "name": "python3"
  },
  "language_info": {
   "codemirror_mode": {
    "name": "ipython",
    "version": 3
   },
   "file_extension": ".py",
   "mimetype": "text/x-python",
   "name": "python",
   "nbconvert_exporter": "python",
   "pygments_lexer": "ipython3",
   "version": "3.12.4"
  }
 },
 "nbformat": 4,
 "nbformat_minor": 5
}
